{
 "cells": [
  {
   "cell_type": "code",
   "execution_count": 1,
   "id": "00643b6e-2d8a-45e2-aa1d-52ec1e94a781",
   "metadata": {},
   "outputs": [
    {
     "name": "stdout",
     "output_type": "stream",
     "text": [
      "Requirement already satisfied: requests in c:\\users\\arnika sultana\\appdata\\local\\programs\\python\\python313\\lib\\site-packages (2.32.4)\n",
      "Requirement already satisfied: charset_normalizer<4,>=2 in c:\\users\\arnika sultana\\appdata\\local\\programs\\python\\python313\\lib\\site-packages (from requests) (3.4.2)\n",
      "Requirement already satisfied: idna<4,>=2.5 in c:\\users\\arnika sultana\\appdata\\local\\programs\\python\\python313\\lib\\site-packages (from requests) (3.10)\n",
      "Requirement already satisfied: urllib3<3,>=1.21.1 in c:\\users\\arnika sultana\\appdata\\local\\programs\\python\\python313\\lib\\site-packages (from requests) (2.5.0)\n",
      "Requirement already satisfied: certifi>=2017.4.17 in c:\\users\\arnika sultana\\appdata\\local\\programs\\python\\python313\\lib\\site-packages (from requests) (2025.6.15)\n"
     ]
    },
    {
     "name": "stderr",
     "output_type": "stream",
     "text": [
      "\n",
      "[notice] A new release of pip is available: 24.2 -> 25.1.1\n",
      "[notice] To update, run: python.exe -m pip install --upgrade pip\n"
     ]
    }
   ],
   "source": [
    "!pip install requests"
   ]
  },
  {
   "cell_type": "code",
   "execution_count": 11,
   "id": "87a01f73-2995-4c17-9bbd-480c2be37d57",
   "metadata": {},
   "outputs": [],
   "source": [
    "import tkinter as tk\n",
    "from tkinter import messagebox\n",
    "import requests"
   ]
  },
  {
   "cell_type": "code",
   "execution_count": 12,
   "id": "85799779-f3dd-4303-8b67-0908e52c7343",
   "metadata": {},
   "outputs": [],
   "source": [
    "import requests\n",
    "\n",
    "def get_word_details(word):\n",
    "    word = word.lower()\n",
    "    meaning = \"No meaning found.\"\n",
    "    synonyms = []\n",
    "    antonyms = []\n",
    "    \n",
    "    try:\n",
    "        meaning_response = requests.get(f\"https://api.dictionaryapi.dev/api/v2/entries/en/{word}\")\n",
    "        if meaning_response.status_code == 200:\n",
    "            data = meaning_response.json()\n",
    "            meaning = data[0][\"meanings\"][0][\"definitions\"][0][\"definition\"]\n",
    "    except Exception:\n",
    "        pass\n",
    "    \n",
    "    try:\n",
    "        syn_response = requests.get(f\"https://api.datamuse.com/words?rel_syn={word}\")\n",
    "        if syn_response.status_code == 200:\n",
    "            syn_data = syn_response.json()\n",
    "            synonyms = [item['word'] for item in syn_data]\n",
    "    except Exception:\n",
    "        pass\n",
    "\n",
    "    try:\n",
    "        ant_response = requests.get(f\"https://api.datamuse.com/words?rel_ant={word}\")\n",
    "        if ant_response.status_code == 200:\n",
    "            ant_data = ant_response.json()\n",
    "            antonyms = [item['word'] for item in ant_data]\n",
    "    except Exception:\n",
    "        pass\n",
    "\n",
    "    return meaning, synonyms, antonyms\n"
   ]
  },
  {
   "cell_type": "code",
   "execution_count": null,
   "id": "c5a7c252-726f-495e-ae03-edc958d79184",
   "metadata": {},
   "outputs": [],
   "source": [
    "def search_word():\n",
    "    word = entry.get()\n",
    "    result_text.delete(1.0, tk.END)\n",
    "    if not word:\n",
    "        messagebox.showwarning(\"Input Error\", \"Please enter a word.\")\n",
    "        return\n",
    "\n",
    "    result = get_word_details(word)\n",
    "    if result:\n",
    "        meaning, synonyms, antonyms = result\n",
    "\n",
    "        result_text.insert(tk.END, f\"Meaning:\\n{meaning}\\n\\n\")\n",
    "\n",
    "        if synonyms:\n",
    "            result_text.insert(tk.END, f\"Synonyms:\\n{', '.join(synonyms)}\\n\\n\")\n",
    "        else:\n",
    "            result_text.insert(tk.END, \"No synonyms found.\\n\\n\")\n",
    "\n",
    "        if antonyms:\n",
    "            result_text.insert(tk.END, f\"Antonyms:\\n{', '.join(antonyms)}\")\n",
    "        else:\n",
    "            result_text.insert(tk.END, \"No antonyms found.\")\n",
    "    else:\n",
    "        result_text.insert(tk.END, \"Word not found. Please try another word.\")\n",
    "\n",
    "# Create main window\n",
    "root = tk.Tk()\n",
    "root.title(\"📚 My Pretty Dictionary App 💖\")\n",
    "root.geometry(\"400x450\")\n",
    "root.configure(bg=\"#fce4ec\")  # Light pink background\n",
    "root.resizable(False, False)\n",
    "\n",
    "\n",
    "# Input\n",
    "label = tk.Label(root, text=\"Enter a word:\", bg=\"#fce4ec\", fg=\"#880e4f\", font=(\"Helvetica\", 12, \"bold\"))\n",
    "label.pack(pady=5)\n",
    "entry = tk.Entry(root, width=30, font=(\"Helvetica\", 12))\n",
    "entry.pack(pady=5)\n",
    "\n",
    "# Button\n",
    "search_button = tk.Button(root, text=\"🔍 Search\", command=search_word,\n",
    "                          bg=\"#f8bbd0\", fg=\"black\", font=(\"Helvetica\", 10, \"bold\"),\n",
    "                          relief=\"raised\", bd=3, padx=10, pady=5)\n",
    "search_button.pack(pady=8)\n",
    "\n",
    "\n",
    "voice_button = tk.Button(root, text=\"🎤 Voice Input\", command=voice_input,\n",
    "                         bg=\"#ce93d8\", fg=\"black\", font=(\"Helvetica\", 10, \"bold\"),\n",
    "                         relief=\"raised\", bd=3, padx=10, pady=5)\n",
    "voice_button.pack(pady=8)\n",
    "\n",
    "\n",
    "audio_button = tk.Button(root, text=\"🔊 Listen\", command=pronounce_word,\n",
    "                         bg=\"#b39ddb\", fg=\"black\", font=(\"Helvetica\", 10, \"bold\"),\n",
    "                         relief=\"raised\", bd=3, padx=10, pady=5)\n",
    "audio_button.pack(pady=8)\n",
    "\n",
    "\n",
    "\n",
    "# Result box\n",
    "result_text = tk.Text(root, wrap=tk.WORD, height=15, width=40,\n",
    "                      bg=\"#f3e5f5\", fg=\"#4a148c\", font=(\"Georgia\", 11))\n",
    "result_text.pack(pady=15)\n",
    "footer = tk.Label(root, text=\"Made by Tajnoor Sultana Toya\", bg=\"#fce4ec\", fg=\"#880e4f\", font=(\"Helvetica\", 9))\n",
    "footer.pack(side=\"bottom\", pady=5)\n",
    "\n",
    "\n",
    "root.mainloop()"
   ]
  },
  {
   "cell_type": "code",
   "execution_count": 4,
   "id": "4c430d3e-6af1-4219-8431-4f0f47d3d7fc",
   "metadata": {},
   "outputs": [
    {
     "name": "stdout",
     "output_type": "stream",
     "text": [
      "Requirement already satisfied: SpeechRecognition in c:\\users\\arnika sultana\\appdata\\local\\programs\\python\\python313\\lib\\site-packages (3.14.3)\n",
      "Requirement already satisfied: typing-extensions in c:\\users\\arnika sultana\\appdata\\local\\programs\\python\\python313\\lib\\site-packages (from SpeechRecognition) (4.14.0)\n",
      "Requirement already satisfied: standard-aifc in c:\\users\\arnika sultana\\appdata\\local\\programs\\python\\python313\\lib\\site-packages (from SpeechRecognition) (3.13.0)\n",
      "Requirement already satisfied: audioop-lts in c:\\users\\arnika sultana\\appdata\\local\\programs\\python\\python313\\lib\\site-packages (from SpeechRecognition) (0.2.1)\n",
      "Requirement already satisfied: standard-chunk in c:\\users\\arnika sultana\\appdata\\local\\programs\\python\\python313\\lib\\site-packages (from standard-aifc->SpeechRecognition) (3.13.0)\n"
     ]
    },
    {
     "name": "stderr",
     "output_type": "stream",
     "text": [
      "\n",
      "[notice] A new release of pip is available: 24.2 -> 25.1.1\n",
      "[notice] To update, run: python.exe -m pip install --upgrade pip\n"
     ]
    }
   ],
   "source": [
    "!pip install SpeechRecognition"
   ]
  },
  {
   "cell_type": "code",
   "execution_count": 5,
   "id": "8e2aa656-b389-4a67-9be4-9c0d93b874ab",
   "metadata": {},
   "outputs": [
    {
     "name": "stdout",
     "output_type": "stream",
     "text": [
      "Requirement already satisfied: pyaudio in c:\\users\\arnika sultana\\appdata\\local\\programs\\python\\python313\\lib\\site-packages (0.2.14)\n"
     ]
    },
    {
     "name": "stderr",
     "output_type": "stream",
     "text": [
      "\n",
      "[notice] A new release of pip is available: 24.2 -> 25.1.1\n",
      "[notice] To update, run: python.exe -m pip install --upgrade pip\n"
     ]
    }
   ],
   "source": [
    "!pip install pyaudio"
   ]
  },
  {
   "cell_type": "code",
   "execution_count": 6,
   "id": "7f9cc92d-6701-4e42-8295-e47a8a99463f",
   "metadata": {},
   "outputs": [],
   "source": [
    "import speech_recognition as sr"
   ]
  },
  {
   "cell_type": "code",
   "execution_count": 7,
   "id": "03cd1322-22bf-4071-9190-3696de8d7436",
   "metadata": {},
   "outputs": [],
   "source": [
    "def voice_input():\n",
    "    recognizer = sr.Recognizer()\n",
    "    with sr.Microphone() as source:\n",
    "        result_text.delete(1.0, tk.END)\n",
    "        result_text.insert(tk.END, \"Listening... 🎤\")\n",
    "        try:\n",
    "            audio = recognizer.listen(source, timeout=5)\n",
    "            result_text.delete(1.0, tk.END)\n",
    "            word = recognizer.recognize_google(audio)\n",
    "            entry.delete(0, tk.END)\n",
    "            entry.insert(0, word)\n",
    "            search_word()\n",
    "        except sr.UnknownValueError:\n",
    "            result_text.delete(1.0, tk.END)\n",
    "            result_text.insert(tk.END, \"Sorry, I couldn't understand your voice.\")\n",
    "        except sr.RequestError:\n",
    "            result_text.delete(1.0, tk.END)\n",
    "            result_text.insert(tk.END, \"Sorry, voice service failed.\")\n",
    "        except Exception as e:\n",
    "            result_text.delete(1.0, tk.END)\n",
    "            result_text.insert(tk.END, f\"Error: {str(e)}\")\n"
   ]
  },
  {
   "cell_type": "code",
   "execution_count": 8,
   "id": "385c9ef1-a6b5-464f-826f-f364a0747936",
   "metadata": {},
   "outputs": [
    {
     "name": "stdout",
     "output_type": "stream",
     "text": [
      "Requirement already satisfied: pyttsx3 in c:\\users\\arnika sultana\\appdata\\local\\programs\\python\\python313\\lib\\site-packages (2.98)\n",
      "Requirement already satisfied: comtypes in c:\\users\\arnika sultana\\appdata\\local\\programs\\python\\python313\\lib\\site-packages (from pyttsx3) (1.4.11)\n",
      "Requirement already satisfied: pypiwin32 in c:\\users\\arnika sultana\\appdata\\local\\programs\\python\\python313\\lib\\site-packages (from pyttsx3) (223)\n",
      "Requirement already satisfied: pywin32 in c:\\users\\arnika sultana\\appdata\\local\\programs\\python\\python313\\lib\\site-packages (from pyttsx3) (310)\n"
     ]
    },
    {
     "name": "stderr",
     "output_type": "stream",
     "text": [
      "\n",
      "[notice] A new release of pip is available: 24.2 -> 25.1.1\n",
      "[notice] To update, run: python.exe -m pip install --upgrade pip\n"
     ]
    }
   ],
   "source": [
    "!pip install pyttsx3"
   ]
  },
  {
   "cell_type": "code",
   "execution_count": 9,
   "id": "0999cb4a-d248-4d2d-8236-43f628a5c4ac",
   "metadata": {},
   "outputs": [],
   "source": [
    "import pyttsx3"
   ]
  },
  {
   "cell_type": "code",
   "execution_count": 10,
   "id": "c55760de-dbe3-4bc5-b037-c78f086b4e46",
   "metadata": {},
   "outputs": [],
   "source": [
    "def pronounce_word():\n",
    "    word = entry.get()\n",
    "    if not word:\n",
    "        messagebox.showwarning(\"Input Error\", \"Please enter a word to pronounce.\")\n",
    "        return\n",
    "    engine = pyttsx3.init()\n",
    "    engine.say(word)\n",
    "    engine.runAndWait()\n"
   ]
  },
  {
   "cell_type": "code",
   "execution_count": null,
   "id": "20c84ad1-ed12-43a4-b5d4-fd70e4d2d83c",
   "metadata": {},
   "outputs": [],
   "source": []
  }
 ],
 "metadata": {
  "kernelspec": {
   "display_name": "Python 3 (ipykernel)",
   "language": "python",
   "name": "python3"
  },
  "language_info": {
   "codemirror_mode": {
    "name": "ipython",
    "version": 3
   },
   "file_extension": ".py",
   "mimetype": "text/x-python",
   "name": "python",
   "nbconvert_exporter": "python",
   "pygments_lexer": "ipython3",
   "version": "3.13.0"
  }
 },
 "nbformat": 4,
 "nbformat_minor": 5
}
